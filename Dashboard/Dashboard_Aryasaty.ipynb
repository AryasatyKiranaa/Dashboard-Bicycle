{
 "cells": [
  {
   "cell_type": "code",
   "execution_count": 1,
   "id": "b8197f68-60b5-43f1-80f4-50346115342b",
   "metadata": {
    "tags": []
   },
   "outputs": [
    {
     "name": "stdout",
     "output_type": "stream",
     "text": [
      "Requirement already satisfied: streamlit in c:\\users\\user\\anaconda3\\lib\\site-packages (1.29.0)\n",
      "Requirement already satisfied: altair<6,>=4.0 in c:\\users\\user\\anaconda3\\lib\\site-packages (from streamlit) (5.2.0)\n",
      "Requirement already satisfied: blinker<2,>=1.0.0 in c:\\users\\user\\anaconda3\\lib\\site-packages (from streamlit) (1.6.2)\n",
      "Requirement already satisfied: cachetools<6,>=4.0 in c:\\users\\user\\anaconda3\\lib\\site-packages (from streamlit) (5.3.2)\n",
      "Requirement already satisfied: click<9,>=7.0 in c:\\users\\user\\anaconda3\\lib\\site-packages (from streamlit) (8.1.7)\n",
      "Requirement already satisfied: importlib-metadata<7,>=1.4 in c:\\users\\user\\anaconda3\\lib\\site-packages (from streamlit) (6.11.0)\n",
      "Requirement already satisfied: numpy<2,>=1.19.3 in c:\\users\\user\\anaconda3\\lib\\site-packages (from streamlit) (1.26.0)\n",
      "Requirement already satisfied: packaging<24,>=16.8 in c:\\users\\user\\anaconda3\\lib\\site-packages (from streamlit) (23.2)\n",
      "Requirement already satisfied: pandas<3,>=1.3.0 in c:\\users\\user\\anaconda3\\lib\\site-packages (from streamlit) (2.2.2)\n",
      "Requirement already satisfied: pillow<11,>=7.1.0 in c:\\users\\user\\anaconda3\\lib\\site-packages (from streamlit) (10.4.0)\n",
      "Requirement already satisfied: protobuf<5,>=3.20 in c:\\users\\user\\anaconda3\\lib\\site-packages (from streamlit) (4.25.1)\n",
      "Requirement already satisfied: pyarrow>=6.0 in c:\\users\\user\\anaconda3\\lib\\site-packages (from streamlit) (16.1.0)\n",
      "Requirement already satisfied: python-dateutil<3,>=2.7.3 in c:\\users\\user\\anaconda3\\lib\\site-packages (from streamlit) (2.9.0.post0)\n",
      "Requirement already satisfied: requests<3,>=2.27 in c:\\users\\user\\anaconda3\\lib\\site-packages (from streamlit) (2.32.3)\n",
      "Requirement already satisfied: rich<14,>=10.14.0 in c:\\users\\user\\anaconda3\\lib\\site-packages (from streamlit) (13.7.0)\n",
      "Requirement already satisfied: tenacity<9,>=8.1.0 in c:\\users\\user\\anaconda3\\lib\\site-packages (from streamlit) (8.2.3)\n",
      "Requirement already satisfied: toml<2,>=0.10.1 in c:\\users\\user\\anaconda3\\lib\\site-packages (from streamlit) (0.10.2)\n",
      "Requirement already satisfied: typing-extensions<5,>=4.3.0 in c:\\users\\user\\anaconda3\\lib\\site-packages (from streamlit) (4.11.0)\n",
      "Requirement already satisfied: tzlocal<6,>=1.1 in c:\\users\\user\\anaconda3\\lib\\site-packages (from streamlit) (5.2)\n",
      "Requirement already satisfied: validators<1,>=0.2 in c:\\users\\user\\anaconda3\\lib\\site-packages (from streamlit) (0.22.0)\n",
      "Requirement already satisfied: gitpython!=3.1.19,<4,>=3.0.7 in c:\\users\\user\\anaconda3\\lib\\site-packages (from streamlit) (3.1.40)\n",
      "Requirement already satisfied: pydeck<1,>=0.8.0b4 in c:\\users\\user\\anaconda3\\lib\\site-packages (from streamlit) (0.8.1b0)\n",
      "Requirement already satisfied: tornado<7,>=6.0.3 in c:\\users\\user\\anaconda3\\lib\\site-packages (from streamlit) (6.4.1)\n",
      "Requirement already satisfied: watchdog>=2.1.5 in c:\\users\\user\\anaconda3\\lib\\site-packages (from streamlit) (4.0.1)\n",
      "Requirement already satisfied: jinja2 in c:\\users\\user\\anaconda3\\lib\\site-packages (from altair<6,>=4.0->streamlit) (3.1.4)\n",
      "Requirement already satisfied: jsonschema>=3.0 in c:\\users\\user\\anaconda3\\lib\\site-packages (from altair<6,>=4.0->streamlit) (4.19.2)\n",
      "Requirement already satisfied: toolz in c:\\users\\user\\anaconda3\\lib\\site-packages (from altair<6,>=4.0->streamlit) (0.12.0)\n",
      "Requirement already satisfied: colorama in c:\\users\\user\\anaconda3\\lib\\site-packages (from click<9,>=7.0->streamlit) (0.4.6)\n",
      "Requirement already satisfied: gitdb<5,>=4.0.1 in c:\\users\\user\\anaconda3\\lib\\site-packages (from gitpython!=3.1.19,<4,>=3.0.7->streamlit) (4.0.11)\n",
      "Requirement already satisfied: zipp>=0.5 in c:\\users\\user\\anaconda3\\lib\\site-packages (from importlib-metadata<7,>=1.4->streamlit) (3.17.0)\n",
      "Requirement already satisfied: pytz>=2020.1 in c:\\users\\user\\anaconda3\\lib\\site-packages (from pandas<3,>=1.3.0->streamlit) (2024.1)\n",
      "Requirement already satisfied: tzdata>=2022.7 in c:\\users\\user\\anaconda3\\lib\\site-packages (from pandas<3,>=1.3.0->streamlit) (2024.2)\n",
      "Requirement already satisfied: six>=1.5 in c:\\users\\user\\anaconda3\\lib\\site-packages (from python-dateutil<3,>=2.7.3->streamlit) (1.16.0)\n",
      "Requirement already satisfied: charset-normalizer<4,>=2 in c:\\users\\user\\anaconda3\\lib\\site-packages (from requests<3,>=2.27->streamlit) (3.3.2)\n",
      "Requirement already satisfied: idna<4,>=2.5 in c:\\users\\user\\anaconda3\\lib\\site-packages (from requests<3,>=2.27->streamlit) (3.7)\n",
      "Requirement already satisfied: urllib3<3,>=1.21.1 in c:\\users\\user\\anaconda3\\lib\\site-packages (from requests<3,>=2.27->streamlit) (2.2.3)\n",
      "Requirement already satisfied: certifi>=2017.4.17 in c:\\users\\user\\anaconda3\\lib\\site-packages (from requests<3,>=2.27->streamlit) (2024.8.30)\n",
      "Requirement already satisfied: markdown-it-py>=2.2.0 in c:\\users\\user\\anaconda3\\lib\\site-packages (from rich<14,>=10.14.0->streamlit) (2.2.0)\n",
      "Requirement already satisfied: pygments<3.0.0,>=2.13.0 in c:\\users\\user\\anaconda3\\lib\\site-packages (from rich<14,>=10.14.0->streamlit) (2.15.1)\n",
      "Requirement already satisfied: smmap<6,>=3.0.1 in c:\\users\\user\\anaconda3\\lib\\site-packages (from gitdb<5,>=4.0.1->gitpython!=3.1.19,<4,>=3.0.7->streamlit) (5.0.1)\n",
      "Requirement already satisfied: MarkupSafe>=2.0 in c:\\users\\user\\anaconda3\\lib\\site-packages (from jinja2->altair<6,>=4.0->streamlit) (2.1.3)\n",
      "Requirement already satisfied: attrs>=22.2.0 in c:\\users\\user\\anaconda3\\lib\\site-packages (from jsonschema>=3.0->altair<6,>=4.0->streamlit) (23.1.0)\n",
      "Requirement already satisfied: jsonschema-specifications>=2023.03.6 in c:\\users\\user\\anaconda3\\lib\\site-packages (from jsonschema>=3.0->altair<6,>=4.0->streamlit) (2023.7.1)\n",
      "Requirement already satisfied: referencing>=0.28.4 in c:\\users\\user\\anaconda3\\lib\\site-packages (from jsonschema>=3.0->altair<6,>=4.0->streamlit) (0.30.2)\n",
      "Requirement already satisfied: rpds-py>=0.7.1 in c:\\users\\user\\anaconda3\\lib\\site-packages (from jsonschema>=3.0->altair<6,>=4.0->streamlit) (0.10.6)\n",
      "Requirement already satisfied: mdurl~=0.1 in c:\\users\\user\\anaconda3\\lib\\site-packages (from markdown-it-py>=2.2.0->rich<14,>=10.14.0->streamlit) (0.1.0)\n"
     ]
    }
   ],
   "source": [
    "!pip install streamlit"
   ]
  },
  {
   "cell_type": "code",
   "execution_count": 2,
   "id": "02673794-7379-46b0-abac-19b02a14157c",
   "metadata": {},
   "outputs": [
    {
     "name": "stdout",
     "output_type": "stream",
     "text": [
      "C:\\Users\\USER\\Downloads\\Tugas_Dicoding\\Dashboard\n"
     ]
    }
   ],
   "source": [
    "import os\n",
    "print(os.getcwd())\n"
   ]
  },
  {
   "cell_type": "code",
   "execution_count": 3,
   "id": "b3a345ab-069b-4f2d-aa49-95a098077c5d",
   "metadata": {
    "tags": []
   },
   "outputs": [
    {
     "name": "stdout",
     "output_type": "stream",
     "text": [
      "Overwriting app.py\n"
     ]
    }
   ],
   "source": [
    "%%writefile app.py\n",
    "\n",
    "import streamlit as st\n",
    "\n",
    "\n",
    "\n",
    "import streamlit as st\n",
    "import pandas as pd\n",
    "import matplotlib.pyplot as plt\n",
    "import seaborn as sns\n",
    "\n",
    "\n",
    "\n",
    "# Load the dataset\n",
    "bikehour_df = pd.read_csv(\"data_terpakai.csv\")\n",
    "\n",
    "# Sidebar untuk memilih rentang waktu tahun\n",
    "st.sidebar.title(\"Filter Rentang Tahun\")\n",
    "year_range = st.sidebar.slider(\"Pilih Tahun\", min_value=int(bikehour_df[\"yr\"].min()), \n",
    "                               max_value=int(bikehour_df[\"yr\"].max()), value=(2011, 2012))\n",
    "\n",
    "# Hanya menggunakan satu metode untuk menampilkan gambar di sidebar\n",
    "st.sidebar.image('sepeda.png', width=250)\n",
    "\n",
    "# Filter berdasarkan tahun yang dipilih\n",
    "filtered_df = bikehour_df[(bikehour_df[\"yr\"] >= year_range[0]) & (bikehour_df[\"yr\"] <= year_range[1])]\n",
    "\n",
    "\n",
    "    \n",
    "\n",
    "# 1. Total Penyewaan Sepeda Berdasarkan Musim\n",
    "st.header(\"Perbandingan Penyewaan Sepeda Berdasarkan Musim\")\n",
    "\n",
    "total_sewa_per_musim = filtered_df.groupby([\"season\", \"yr\"])[\"cnt\"].sum().reset_index()\n",
    "\n",
    "fig, ax = plt.subplots()\n",
    "sns.barplot(data=total_sewa_per_musim, x=\"season\", y=\"cnt\", hue=\"yr\", palette=\"magma\", ax=ax)\n",
    "ax.set_ylabel(\"Total Jumlah Penyewaan\")\n",
    "ax.set_title(\"Total Penyewaan Sepeda Berdasarkan Musim dan Tahun\")\n",
    "plt.tight_layout()\n",
    "st.pyplot(fig)\n",
    "\n",
    "\n",
    "\n",
    "# 2. Total Penyewaan Sepeda Berdasarkan Cuaca\n",
    "st.header(\"Perbandingan Penyewaan Sepeda Berdasarkan Kondisi Cuaca\")\n",
    "\n",
    "total_sewa_per_cuaca = filtered_df.groupby([\"weathersit\", \"yr\"])[\"cnt\"].sum().reset_index()\n",
    "\n",
    "fig, ax = plt.subplots()\n",
    "sns.barplot(data=total_sewa_per_cuaca, x=\"weathersit\", y=\"cnt\", hue=\"yr\", palette=\"magma\", ax=ax)\n",
    "ax.set_ylabel(\"Total Jumlah Penyewaan\")\n",
    "ax.set_title(\"Total Penyewaan Sepeda Berdasarkan Kondisi Cuaca\")\n",
    "plt.tight_layout()\n",
    "st.pyplot(fig)\n",
    "\n",
    "# 3. Analisa Penyewaan Pada Tiap Hari\n",
    "st.header(\"Analisa Penyewaan Pada Tiap Hari\")\n",
    "\n",
    "jumlah_rental_weekday = filtered_df.groupby([\"weekday\", \"yr\"])[\"cnt\"].sum().reset_index()\n",
    "\n",
    "fig, ax = plt.subplots()\n",
    "sns.lineplot(data=jumlah_rental_weekday, x=\"weekday\", y=\"cnt\", hue=\"yr\", palette=\"viridis\", marker=\"o\", ax=ax)\n",
    "ax.set_ylabel(\"Total Jumlah Penyewaan\")\n",
    "ax.set_title(\"Analisa Penyewaan Pada Tiap Hari\")\n",
    "plt.tight_layout()\n",
    "st.pyplot(fig)\n",
    "\n",
    "# 4. Perbandingan Pengguna Casual dan Terdaftar\n",
    "st.header(\"Perbandingan Pengguna Casual dan Terdaftar\")\n",
    "\n",
    "casual_counts = filtered_df.groupby(\"yr\")[\"casual\"].sum().reset_index()\n",
    "casual_counts.columns = [\"yr\", \"Total_Casual\"]\n",
    "\n",
    "registered_counts = filtered_df.groupby(\"yr\")[\"registered\"].sum().reset_index()\n",
    "registered_counts.columns = [\"yr\", \"Total_Registered\"]\n",
    "\n",
    "fig, ax = plt.subplots()\n",
    "bar_width = 0.35\n",
    "index = casual_counts[\"yr\"]\n",
    "\n",
    "ax.bar(index, casual_counts[\"Total_Casual\"], bar_width, label=\"Casual Users\", color=\"pink\")\n",
    "ax.bar(index + bar_width, registered_counts[\"Total_Registered\"], bar_width, label=\"Registered Users\", color=\"purple\")\n",
    "ax.set_xlabel(\"yr\")\n",
    "ax.set_ylabel(\"Total Counts\")\n",
    "ax.set_title(\"Casual vs Registered Users by Year\")\n",
    "ax.legend()\n",
    "plt.tight_layout()\n",
    "st.pyplot(fig)\n",
    "\n",
    "# 5. Total Penyewaan Sepeda Berdasarkan Bulan\n",
    "st.header(\"Total Penyewaan Sepeda Berdasarkan Bulan\")\n",
    "\n",
    "jumlah_rental_bulanan = filtered_df.groupby([\"mnth\", \"yr\"])[\"cnt\"].sum().reset_index()\n",
    "\n",
    "fig, ax = plt.subplots()\n",
    "sns.lineplot(data=jumlah_rental_bulanan, x=\"mnth\", y=\"cnt\", hue=\"yr\", palette=\"viridis\", marker=\"o\", ax=ax)\n",
    "ax.set_ylabel(\"Total Jumlah Penyewaan\")\n",
    "ax.set_title(\"Total Penyewaan Sepeda Berdasarkan Bulan\")\n",
    "plt.tight_layout()\n",
    "st.pyplot(fig)\n",
    "\n",
    "# 6. Total Penyewaan Sepeda Berdasarkan Jam\n",
    "st.header(\"Total Penyewaan Sepeda Berdasarkan Jam\")\n",
    "\n",
    "jumlah_rental_jam = filtered_df.groupby([\"hr\", \"yr\"])[\"cnt\"].sum().reset_index()\n",
    "\n",
    "fig, ax = plt.subplots()\n",
    "sns.lineplot(data=jumlah_rental_jam, x=\"hr\", y=\"cnt\", hue=\"yr\", palette=\"viridis\", marker=\"o\", ax=ax)\n",
    "ax.set_ylabel(\"Total Jumlah Penyewaan\")\n",
    "ax.set_xlabel(\"Jam\")\n",
    "ax.set_title(\"Total Penyewaan Sepeda Berdasarkan Jam\")\n",
    "plt.tight_layout()\n",
    "st.pyplot(fig)\n"
   ]
  },
  {
   "cell_type": "code",
   "execution_count": null,
   "id": "7adc7ff0-2159-4e2a-a60a-ca41bc313759",
   "metadata": {},
   "outputs": [],
   "source": [
    "!streamlit run app.py"
   ]
  },
  {
   "cell_type": "code",
   "execution_count": null,
   "id": "5a0d4d6c-129f-4793-8113-f6bd752da792",
   "metadata": {},
   "outputs": [],
   "source": [
    "Local URL: http://localhost:8501\n",
    "Network URL: http://xxx.xxx.xxx.xxx:8501"
   ]
  },
  {
   "cell_type": "code",
   "execution_count": null,
   "id": "94301eff-5c57-405c-a2de-b4b0faa43f0b",
   "metadata": {
    "tags": []
   },
   "outputs": [],
   "source": [
    "!nohup streamlit run app.py &"
   ]
  }
 ],
 "metadata": {
  "kernelspec": {
   "display_name": "Python 3 (ipykernel)",
   "language": "python",
   "name": "python3"
  },
  "language_info": {
   "codemirror_mode": {
    "name": "ipython",
    "version": 3
   },
   "file_extension": ".py",
   "mimetype": "text/x-python",
   "name": "python",
   "nbconvert_exporter": "python",
   "pygments_lexer": "ipython3",
   "version": "3.11.5"
  }
 },
 "nbformat": 4,
 "nbformat_minor": 5
}
